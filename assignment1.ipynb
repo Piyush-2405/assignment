{
 "cells": [
  {
   "cell_type": "code",
   "execution_count": null,
   "id": "031be1a3-0b7c-4f70-8334-e0a18a027ef5",
   "metadata": {},
   "outputs": [],
   "source": [
    "1. Guido van Rossum developed the python prgramming language"
   ]
  },
  {
   "cell_type": "code",
   "execution_count": null,
   "id": "e127009b-cc12-4b02-9d45-66ae2408fdbd",
   "metadata": {},
   "outputs": [],
   "source": [
    "2. Python is an interpreted programming language, supporting object-oriented, structured, and functional programming."
   ]
  },
  {
   "cell_type": "code",
   "execution_count": null,
   "id": "6ad32f79-80ef-41dc-867b-114c1cc124fe",
   "metadata": {},
   "outputs": [],
   "source": [
    "3. Yes, Python is a case-sensitive language, i.e., it treats uppercase and lowercase characters differently."
   ]
  },
  {
   "cell_type": "code",
   "execution_count": null,
   "id": "43c493da-add1-43a3-8b1f-90b97568de51",
   "metadata": {},
   "outputs": [],
   "source": [
    "4. .py is the correct extension of the python file."
   ]
  },
  {
   "cell_type": "code",
   "execution_count": null,
   "id": "732b1213-2b9c-4380-a6de-7894edb35051",
   "metadata": {},
   "outputs": [],
   "source": [
    "5. Python code is interpreted."
   ]
  },
  {
   "cell_type": "code",
   "execution_count": null,
   "id": "dcf63c31-d05a-4918-93b3-bdbfadf20524",
   "metadata": {},
   "outputs": [],
   "source": [
    "6. Indentation is used to define a block of code in python. "
   ]
  },
  {
   "cell_type": "code",
   "execution_count": null,
   "id": "711c8a49-6ff6-48da-941d-77cc7b612430",
   "metadata": {},
   "outputs": [],
   "source": [
    "7. Hash character(#) is used to give a single line comments in python."
   ]
  },
  {
   "cell_type": "code",
   "execution_count": null,
   "id": "fafe1e12-9b71-4ff7-b26e-86e4326d1ac4",
   "metadata": {},
   "outputs": [],
   "source": [
    "8. The function sys.version can help us to find the version of python that we are currently working on."
   ]
  },
  {
   "cell_type": "code",
   "execution_count": null,
   "id": "7bc5dca2-e4ba-4ba2-a400-4e768aea7649",
   "metadata": {},
   "outputs": [],
   "source": [
    "9. Python supports the creation of anonymous functions at runtime, using a construct called \"lambda\" ."
   ]
  },
  {
   "cell_type": "code",
   "execution_count": null,
   "id": "9daad457-4387-45b0-ad61-bc158ccd811f",
   "metadata": {},
   "outputs": [],
   "source": [
    "10. pip stands for \"preferred installer program\" in python."
   ]
  },
  {
   "cell_type": "code",
   "execution_count": null,
   "id": "91b16132-f342-4d28-9f03-bad4ead92132",
   "metadata": {},
   "outputs": [],
   "source": [
    "11. print( ) function, type( ) function, input( ) function, abs( ) function, pow( ) function, dir( ) function, sorted( ) function, max( ) function."
   ]
  },
  {
   "cell_type": "code",
   "execution_count": null,
   "id": "28c3db50-95a8-44cf-9658-c0d8d8c4b346",
   "metadata": {},
   "outputs": [],
   "source": [
    "12.  An identifier can have a maximum length of 79 characters in Python."
   ]
  },
  {
   "cell_type": "code",
   "execution_count": null,
   "id": "0d17d537-e5ee-4f93-8d27-460dc6fe76e8",
   "metadata": {},
   "outputs": [],
   "source": [
    "13. Python is commonly used for developing websites and software, task automation, data analysis, and data visualization."
   ]
  },
  {
   "cell_type": "code",
   "execution_count": null,
   "id": "3902c4cc-1939-45f4-bfe6-fdf48fa7c86f",
   "metadata": {},
   "outputs": [],
   "source": [
    "14. Memory management in Python involves a private heap containing all Python objects and data structures. The management of this private heap is ensured internally by the Python memory manager."
   ]
  },
  {
   "cell_type": "code",
   "execution_count": null,
   "id": "ed70fd49-125c-4c33-97d2-f61d086e03c0",
   "metadata": {},
   "outputs": [],
   "source": [
    "15. Install python from this link https://www.python.org/downloads/\n",
    "After this, install it on your PC. Look for the location where PYTHON has been installed on your PC using the following command on your command prompt: cmd python.\n",
    "Then go to advanced system settings and add new variable and name it as PYTHON_NAME and paste the copied path.\n",
    "Then look for the path variable, select it's value and select edit\n",
    "Add a semicolon towards the end of the value if it's not present and then type %PYTHON_HOME%"
   ]
  },
  {
   "cell_type": "code",
   "execution_count": null,
   "id": "e3bcf9cb-80ea-4545-8f77-6e1d04dc90b4",
   "metadata": {},
   "outputs": [],
   "source": [
    "16. Indentation in Python is very important. Python uses indentation to indicate a block of code."
   ]
  }
 ],
 "metadata": {
  "kernelspec": {
   "display_name": "Python 3 (ipykernel)",
   "language": "python",
   "name": "python3"
  },
  "language_info": {
   "codemirror_mode": {
    "name": "ipython",
    "version": 3
   },
   "file_extension": ".py",
   "mimetype": "text/x-python",
   "name": "python",
   "nbconvert_exporter": "python",
   "pygments_lexer": "ipython3",
   "version": "3.10.8"
  }
 },
 "nbformat": 4,
 "nbformat_minor": 5
}
